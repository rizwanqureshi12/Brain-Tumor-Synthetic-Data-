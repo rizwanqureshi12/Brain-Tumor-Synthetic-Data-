{
  "cells": [
    {
      "cell_type": "markdown",
      "metadata": {
        "id": "cPI5E5y0pujD"
      },
      "source": [
        "# StyleGan2-ADA with transfer learning\n"
      ]
    },
    {
      "cell_type": "markdown",
      "metadata": {
        "id": "5YcUMPQp6ipP"
      },
      "source": [
        "## Installing StyleGAN2-ADA on Google Drive"
      ]
    },
    {
      "cell_type": "markdown",
      "metadata": {
        "id": "SI_i1MwgpzOD"
      },
      "source": [
        "Using TF1 as StyleGAN2-ADA only works with TF1.\n"
      ]
    },
    {
      "cell_type": "code",
      "execution_count": 3,
      "metadata": {
        "id": "iKYAU7Wub3WW",
        "colab": {
          "base_uri": "https://localhost:8080/"
        },
        "outputId": "2aa813c4-4310-41b2-aacc-e05a7a7a74e2"
      },
      "outputs": [
        {
          "output_type": "stream",
          "name": "stdout",
          "text": [
            "Fri Nov  4 05:27:23 2022       \n",
            "+-----------------------------------------------------------------------------+\n",
            "| NVIDIA-SMI 460.32.03    Driver Version: 460.32.03    CUDA Version: 11.2     |\n",
            "|-------------------------------+----------------------+----------------------+\n",
            "| GPU  Name        Persistence-M| Bus-Id        Disp.A | Volatile Uncorr. ECC |\n",
            "| Fan  Temp  Perf  Pwr:Usage/Cap|         Memory-Usage | GPU-Util  Compute M. |\n",
            "|                               |                      |               MIG M. |\n",
            "|===============================+======================+======================|\n",
            "|   0  Tesla T4            Off  | 00000000:00:04.0 Off |                    0 |\n",
            "| N/A   44C    P0    26W /  70W |      0MiB / 15109MiB |      0%      Default |\n",
            "|                               |                      |                  N/A |\n",
            "+-------------------------------+----------------------+----------------------+\n",
            "                                                                               \n",
            "+-----------------------------------------------------------------------------+\n",
            "| Processes:                                                                  |\n",
            "|  GPU   GI   CI        PID   Type   Process name                  GPU Memory |\n",
            "|        ID   ID                                                   Usage      |\n",
            "|=============================================================================|\n",
            "|  No running processes found                                                 |\n",
            "+-----------------------------------------------------------------------------+\n"
          ]
        }
      ],
      "source": [
        "%tensorflow_version 1.x\n",
        "!nvidia-smi"
      ]
    },
    {
      "cell_type": "markdown",
      "source": [
        "Installing numpy 1.19.5"
      ],
      "metadata": {
        "id": "vsd0aRFi76Ub"
      }
    },
    {
      "cell_type": "code",
      "execution_count": null,
      "metadata": {
        "id": "MAsNbyQc6OKc",
        "colab": {
          "base_uri": "https://localhost:8080/"
        },
        "outputId": "5a62941c-3f36-4bbc-9323-c7b3410158e4"
      },
      "outputs": [
        {
          "output_type": "stream",
          "name": "stdout",
          "text": [
            "1.21.6\n"
          ]
        }
      ],
      "source": [
        "!pip install numpy==1.19.5\n",
        "import numpy\n",
        "print(numpy.__version__)"
      ]
    },
    {
      "cell_type": "markdown",
      "metadata": {
        "id": "19_1uXab3gND"
      },
      "source": [
        "Mounting Drive to the Colab notebook: "
      ]
    },
    {
      "cell_type": "code",
      "execution_count": null,
      "metadata": {
        "id": "pxxYlEKI9Gis",
        "colab": {
          "base_uri": "https://localhost:8080/"
        },
        "outputId": "c17831cb-becf-4fb3-dac1-73788320e1fc"
      },
      "outputs": [
        {
          "output_type": "stream",
          "name": "stdout",
          "text": [
            "Mounted at /content/drive\n"
          ]
        }
      ],
      "source": [
        "from google.colab import drive\n",
        "from pathlib import Path\n",
        "\n",
        "content_path = Path('/').absolute() / 'content'\n",
        "drive_path = content_path / 'drive'\n",
        "drive.mount(str(drive_path))"
      ]
    },
    {
      "cell_type": "markdown",
      "source": [],
      "metadata": {
        "id": "c_Op3hf7Gmo8"
      }
    },
    {
      "cell_type": "markdown",
      "metadata": {
        "id": "epV6TDzAjox1"
      },
      "source": [
        "Install StyleGAN2-ADA on Drive.Everything will be available on your Google Drive in the folder **StyleGAN2-ADA**"
      ]
    },
    {
      "cell_type": "code",
      "execution_count": null,
      "metadata": {
        "id": "8HX77jscX2zV"
      },
      "outputs": [],
      "source": [
        "stylegan2_repo_url  = 'https://github.com/NVlabs/stylegan2-ada' \n",
        "project_path = drive_path / 'MyDrive' / 'StyleGAN2-ADA'\n",
        "stylegan2_repo_path = project_path / 'stylegan2-ada'\n",
        "\n",
        "Create project folder if inexistant\n",
        "if not project_path.is_dir():\n",
        "    %mkdir \"{project_path}\"\n",
        "%cd \"{project_path}\"\n",
        "\n",
        "for dir in ['in', 'out', 'datasets', 'training']:\n",
        "    if not (project_path / dir).is_dir():\n",
        "        %mkdir {dir}\n",
        "if not (project_path / 'datasets' / 'source').is_dir():\n",
        "    %mkdir \"{project_path / 'datasets' / 'source'}\"\n",
        "\n",
        "# Download StyleGAN2-ada\n",
        "!git config --global user.name \"\" #Your Github username\n",
        "!git config --global user.email \"\" #Your Github email\n",
        "if stylegan2_repo_path.is_dir():\n",
        "    !git -C \"{stylegan2_repo_path}\" fetch origin\n",
        "    !git -C \"{stylegan2_repo_path}\" checkout origin/main -- *.py\n",
        "else:\n",
        "    print(\"Install StyleGAN2-ADA\")\n",
        "    !git clone {stylegan2_repo_url}"
      ]
    },
    {
      "cell_type": "markdown",
      "metadata": {
        "id": "Ti11YiPAiQpb"
      },
      "source": [
        "## Training"
      ]
    },
    {
      "cell_type": "markdown",
      "metadata": {
        "id": "ioqYi9NzkUfG"
      },
      "source": [
        "Once you have installed StyleGAN2-ADA on your Google Drive and set up the working directory, you can upload your training dataset images in the associated folder."
      ]
    },
    {
      "cell_type": "code",
      "execution_count": null,
      "metadata": {
        "colab": {
          "base_uri": "https://localhost:8080/"
        },
        "id": "OlV5HIEqiZvu",
        "outputId": "10ff3900-9c00-4ece-ac74-7e5390cfb92c"
      },
      "outputs": [
        {
          "output_type": "stream",
          "name": "stdout",
          "text": [
            "Dataset ready for import.\n"
          ]
        }
      ],
      "source": [
        "dataset_name = 'brain_tumor'\n",
        "datasets_source_path = project_path / 'datasets' / 'source' / (dataset_name + '.zip')\n",
        "if datasets_source_path.is_file():\n",
        "    print(\"Dataset ready for import.\")\n",
        "else:\n",
        "    print('Upload your images dataset as {}'.format(datasets_source_path))"
      ]
    },
    {
      "cell_type": "code",
      "execution_count": null,
      "metadata": {
        "id": "TCya_TcXr7P8"
      },
      "outputs": [],
      "source": [
        "#!rm -rf /content/dataset"
      ]
    },
    {
      "cell_type": "markdown",
      "metadata": {
        "id": "-y1-tvr5617d"
      },
      "source": [
        "Download zipped dataset on Drive and extract it in the local session."
      ]
    },
    {
      "cell_type": "code",
      "execution_count": null,
      "metadata": {
        "colab": {
          "base_uri": "https://localhost:8080/"
        },
        "id": "eQZGo4g5y7rh",
        "outputId": "bcb148b7-42b9-422e-f552-8a0c6a70615b"
      },
      "outputs": [
        {
          "output_type": "stream",
          "name": "stdout",
          "text": [
            "Importing dataset...\n",
            "Zip file succesfuly imported\n",
            "Extraction completed\n"
          ]
        }
      ],
      "source": [
        "local_dataset_path = content_path / 'dataset'\n",
        "if not local_dataset_path.is_dir():\n",
        "    print(\"Importing dataset...\")\n",
        "    %mkdir \"{local_dataset_path}\"\n",
        "    %cp -a \"{project_path / 'datasets' / 'source' / (dataset_name + '.zip')}\" \"{local_dataset_path}\"\n",
        "    print(\"Zip file succesfuly imported\")\n",
        "else:\n",
        "    print('Zip file allready imported')\n",
        "\n",
        "import zipfile\n",
        "with zipfile.ZipFile(str(local_dataset_path / (dataset_name + '.zip')), 'r') as zip_ref:\n",
        "    zip_ref.extractall(str(local_dataset_path))\n",
        "print('Extraction completed')"
      ]
    },
    {
      "cell_type": "markdown",
      "metadata": {
        "id": "HeS9tDvt61VG"
      },
      "source": [
        "### Convert dataset to .tfrecords"
      ]
    },
    {
      "cell_type": "markdown",
      "metadata": {
        "id": "_Q58MJbckLUc"
      },
      "source": [
        "Convert our image dataset to a format that StyleGAN2-ADA can read:`.tfrecords`.\n"
      ]
    },
    {
      "cell_type": "code",
      "execution_count": null,
      "metadata": {
        "colab": {
          "base_uri": "https://localhost:8080/"
        },
        "id": "IjH8kBDo3kFP",
        "outputId": "1fb82e76-5f81-4f5e-8c48-76d38dbd5406"
      },
      "outputs": [
        {
          "output_type": "stream",
          "name": "stdout",
          "text": [
            "Loading images from \"/content/dataset/brain_tumor\"\n",
            "Creating dataset \"/content/dataset/tfr\"\n",
            "0 / 154\r/content/drive/MyDrive/StyleGAN2-ADA/stylegan2-ada/dataset_tool.py:96: DeprecationWarning: tostring() is deprecated. Use tobytes() instead.\n",
            "  'data': tf.train.Feature(bytes_list=tf.train.BytesList(value=[quant.tostring()]))}))\n",
            "Added 154 images.\n"
          ]
        }
      ],
      "source": [
        "local_images_path = local_dataset_path / 'brain_tumor'\n",
        "local_dataset_path /= 'tfr'\n",
        "\n",
        "if (local_dataset_path).is_dir():\n",
        "    print('\\N{Heavy Exclamation Mark Symbol} Dataset already created \\N{Heavy Exclamation Mark Symbol}')\n",
        "    print('Delete current dataset folder ({}) to regenerate tfrecords.'.format(local_dataset_path))\n",
        "else:\n",
        "    %mkdir \"{local_dataset_path}\"\n",
        "    !python \"{stylegan2_repo_path / 'dataset_tool.py'}\" create_from_images \\\n",
        "        \"{local_dataset_path}\" \"{local_images_path}\""
      ]
    },
    {
      "cell_type": "code",
      "execution_count": null,
      "metadata": {
        "colab": {
          "base_uri": "https://localhost:8080/"
        },
        "id": "q109uin-s3yI",
        "outputId": "c8aaae13-1d4c-4876-c77f-63d8153d608f"
      },
      "outputs": [
        {
          "name": "stdout",
          "output_type": "stream",
          "text": [
            "1.19.5\n",
            "/content/dataset/tfr\n"
          ]
        }
      ],
      "source": [
        "import numpy\n",
        "print(numpy.__version__)\n",
        "print(local_dataset_path)"
      ]
    },
    {
      "cell_type": "code",
      "execution_count": null,
      "metadata": {
        "colab": {
          "base_uri": "https://localhost:8080/"
        },
        "id": "Fxu7CA0Qb1Yd",
        "outputId": "18fceed7-fc75-4864-af42-9b8f3ae7d46a"
      },
      "outputs": [
        {
          "name": "stdout",
          "output_type": "stream",
          "text": [
            "usage: train.py [-h] --outdir DIR [--gpus INT] [--snap INT] [--seed INT] [-n]\n",
            "                --data PATH [--res INT] [--mirror BOOL] [--metrics LIST]\n",
            "                [--metricdata PATH]\n",
            "                [--cfg {auto,stylegan2,paper256,paper512,paper1024,cifar,cifarbaseline}]\n",
            "                [--gamma FLOAT] [--kimg INT] [--aug {noaug,ada,fixed,adarv}]\n",
            "                [--p FLOAT] [--target TARGET]\n",
            "                [--augpipe {blit,geom,color,filter,noise,cutout,bg,bgc,bgcf,bgcfn,bgcfnc}]\n",
            "                [--cmethod {nocmethod,bcr,zcr,pagan,wgangp,auxrot,spectralnorm,shallowmap,adropout}]\n",
            "                [--dcap FLOAT] [--resume RESUME] [--freezed INT]\n",
            "\n",
            "Train a GAN using the techniques described in the paper\n",
            "\"Training Generative Adversarial Networks with Limited Data\".\n",
            "\n",
            "optional arguments:\n",
            "  -h, --help            show this help message and exit\n",
            "\n",
            "general options:\n",
            "  --outdir DIR          Where to save the results (required)\n",
            "  --gpus INT            Number of GPUs to use (default: 1 gpu)\n",
            "  --snap INT            Snapshot interval (default: 50 ticks)\n",
            "  --seed INT            Random seed (default: 1000)\n",
            "  -n, --dry-run         Print training options and exit\n",
            "\n",
            "training dataset:\n",
            "  --data PATH           Training dataset path (required)\n",
            "  --res INT             Dataset resolution (default: highest available)\n",
            "  --mirror BOOL         Augment dataset with x-flips (default: false)\n",
            "\n",
            "metrics:\n",
            "  --metrics LIST        Comma-separated list or \"none\" (default: fid50k_full)\n",
            "  --metricdata PATH     Dataset to evaluate metrics against (optional)\n",
            "\n",
            "base config:\n",
            "  --cfg {auto,stylegan2,paper256,paper512,paper1024,cifar,cifarbaseline}\n",
            "                        Base config (default: auto)\n",
            "  --gamma FLOAT         Override R1 gamma\n",
            "  --kimg INT            Override training duration\n",
            "\n",
            "discriminator augmentation:\n",
            "  --aug {noaug,ada,fixed,adarv}\n",
            "                        Augmentation mode (default: ada)\n",
            "  --p FLOAT             Specify augmentation probability for --aug=fixed\n",
            "  --target TARGET       Override ADA target for --aug=ada and --aug=adarv\n",
            "  --augpipe {blit,geom,color,filter,noise,cutout,bg,bgc,bgcf,bgcfn,bgcfnc}\n",
            "                        Augmentation pipeline (default: bgc)\n",
            "\n",
            "comparison methods:\n",
            "  --cmethod {nocmethod,bcr,zcr,pagan,wgangp,auxrot,spectralnorm,shallowmap,adropout}\n",
            "                        Comparison method (default: nocmethod)\n",
            "  --dcap FLOAT          Multiplier for discriminator capacity\n",
            "\n",
            "transfer learning:\n",
            "  --resume RESUME       Resume from network pickle (default: noresume)\n",
            "  --freezed INT         Freeze-D (default: 0 discriminator layers)\n",
            "\n",
            "examples:\n",
            "\n",
            "  # Train custom dataset using 1 GPU.\n",
            "  python train.py --outdir=~/training-runs --gpus=1 --data=~/datasets/custom\n",
            "\n",
            "  # Train class-conditional CIFAR-10 using 2 GPUs.\n",
            "  python train.py --outdir=~/training-runs --gpus=2 --data=~/datasets/cifar10c \\\n",
            "      --cfg=cifar\n",
            "\n",
            "  # Transfer learn MetFaces from FFHQ using 4 GPUs.\n",
            "  python train.py --outdir=~/training-runs --gpus=4 --data=~/datasets/metfaces \\\n",
            "      --cfg=paper1024 --mirror=1 --resume=ffhq1024 --snap=10\n",
            "\n",
            "  # Reproduce original StyleGAN2 config F.\n",
            "  python train.py --outdir=~/training-runs --gpus=8 --data=~/datasets/ffhq \\\n",
            "      --cfg=stylegan2 --res=1024 --mirror=1 --aug=noaug\n",
            "\n",
            "available base configs (--cfg):\n",
            "  auto           Automatically select reasonable defaults based on resolution\n",
            "                 and GPU count. Good starting point for new datasets.\n",
            "  stylegan2      Reproduce results for StyleGAN2 config F at 1024x1024.\n",
            "  paper256       Reproduce results for FFHQ and LSUN Cat at 256x256.\n",
            "  paper512       Reproduce results for BreCaHAD and AFHQ at 512x512.\n",
            "  paper1024      Reproduce results for MetFaces at 1024x1024.\n",
            "  cifar          Reproduce results for CIFAR-10 (tuned configuration).\n",
            "  cifarbaseline  Reproduce results for CIFAR-10 (baseline configuration).\n",
            "\n",
            "transfer learning source networks (--resume):\n",
            "  ffhq256        FFHQ trained at 256x256 resolution.\n",
            "  ffhq512        FFHQ trained at 512x512 resolution.\n",
            "  ffhq1024       FFHQ trained at 1024x1024 resolution.\n",
            "  celebahq256    CelebA-HQ trained at 256x256 resolution.\n",
            "  lsundog256     LSUN Dog trained at 256x256 resolution.\n",
            "  <path or URL>  Custom network pickle.\n"
          ]
        }
      ],
      "source": [
        "!python \"{stylegan2_repo_path / 'train.py'}\" --help"
      ]
    },
    {
      "cell_type": "code",
      "execution_count": null,
      "metadata": {
        "colab": {
          "base_uri": "https://localhost:8080/"
        },
        "id": "a82wUxelruzg",
        "outputId": "665852fc-3ed8-4d5e-9d9d-3ef367d94d12"
      },
      "outputs": [
        {
          "name": "stdout",
          "output_type": "stream",
          "text": [
            "/content/drive/MyDrive/StyleGAN2-ADA\n"
          ]
        }
      ],
      "source": [
        "print(project_path)"
      ]
    },
    {
      "cell_type": "code",
      "execution_count": null,
      "metadata": {
        "colab": {
          "base_uri": "https://localhost:8080/"
        },
        "id": "jOftFoyiDU3s",
        "outputId": "cbae49e4-bce4-425e-d802-9907d01d4881"
      },
      "outputs": [
        {
          "output_type": "stream",
          "name": "stdout",
          "text": [
            "tcmalloc: large alloc 4294967296 bytes == 0x8248000 @  0x7f3fa7797001 0x7f3fa49db54f 0x7f3fa4a2bb58 0x7f3fa4a2fb17 0x7f3fa4ace203 0x593835 0x548c51 0x5127f1 0x549e0e 0x4bca8a 0x532b86 0x594a96 0x548cc1 0x5127f1 0x549576 0x4bca8a 0x5134a6 0x549576 0x4bca8a 0x5134a6 0x549e0e 0x4bca8a 0x5134a6 0x593dd7 0x5118f8 0x549576 0x604173 0x5f5506 0x5f8c6c 0x5f9206 0x64faf2\n",
            "tcmalloc: large alloc 4294967296 bytes == 0x7f3dbe828000 @  0x7f3fa77951e7 0x7f3fa49db46e 0x7f3fa4a2bc7b 0x7f3fa4a2c35f 0x7f3fa4ace103 0x593835 0x548c51 0x5127f1 0x549576 0x593fce 0x548ae9 0x5127f1 0x549576 0x593fce 0x548ae9 0x5127f1 0x549576 0x593fce 0x548ae9 0x5127f1 0x593dd7 0x5118f8 0x549576 0x593fce 0x548ae9 0x51566f 0x549576 0x593fce 0x548ae9 0x5127f1 0x549e0e\n",
            "tcmalloc: large alloc 4294967296 bytes == 0x7f3cbd826000 @  0x7f3fa77951e7 0x7f3fa49db46e 0x7f3fa4a2bc7b 0x7f3fa4a2c35f 0x7f3f505b5235 0x7f3f4ff38792 0x7f3f4ff38d42 0x7f3f4fef1aee 0x59371f 0x548c51 0x51566f 0x593dd7 0x511e2c 0x549e0e 0x4bcb19 0x5134a6 0x549576 0x593fce 0x511e2c 0x549e0e 0x593fce 0x511e2c 0x593dd7 0x511e2c 0x549576 0x4bcb19 0x59c019 0x595ef6 0x5134a6 0x549576 0x593fce\n",
            "\n",
            "Training options:\n",
            "{\n",
            "  \"G_args\": {\n",
            "    \"func_name\": \"training.networks.G_main\",\n",
            "    \"fmap_base\": 16384,\n",
            "    \"fmap_max\": 512,\n",
            "    \"mapping_layers\": 2,\n",
            "    \"num_fp16_res\": 4,\n",
            "    \"conv_clamp\": 256\n",
            "  },\n",
            "  \"D_args\": {\n",
            "    \"func_name\": \"training.networks.D_main\",\n",
            "    \"mbstd_group_size\": 4,\n",
            "    \"fmap_base\": 16384,\n",
            "    \"fmap_max\": 512,\n",
            "    \"num_fp16_res\": 4,\n",
            "    \"conv_clamp\": 256\n",
            "  },\n",
            "  \"G_opt_args\": {\n",
            "    \"beta1\": 0.0,\n",
            "    \"beta2\": 0.99,\n",
            "    \"learning_rate\": 0.0025\n",
            "  },\n",
            "  \"D_opt_args\": {\n",
            "    \"beta1\": 0.0,\n",
            "    \"beta2\": 0.99,\n",
            "    \"learning_rate\": 0.0025\n",
            "  },\n",
            "  \"loss_args\": {\n",
            "    \"func_name\": \"training.loss.stylegan2\",\n",
            "    \"r1_gamma\": 6.5536\n",
            "  },\n",
            "  \"augment_args\": {\n",
            "    \"class_name\": \"training.augment.AdaptiveAugment\",\n",
            "    \"tune_heuristic\": \"rt\",\n",
            "    \"tune_target\": 0.6,\n",
            "    \"apply_func\": \"training.augment.augment_pipeline\",\n",
            "    \"apply_args\": {\n",
            "      \"xflip\": 1,\n",
            "      \"rotate90\": 1,\n",
            "      \"xint\": 1,\n",
            "      \"scale\": 1,\n",
            "      \"rotate\": 1,\n",
            "      \"aniso\": 1,\n",
            "      \"xfrac\": 1,\n",
            "      \"brightness\": 1,\n",
            "      \"contrast\": 1,\n",
            "      \"lumaflip\": 1,\n",
            "      \"hue\": 1,\n",
            "      \"saturation\": 1\n",
            "    },\n",
            "    \"tune_kimg\": 100\n",
            "  },\n",
            "  \"num_gpus\": 1,\n",
            "  \"image_snapshot_ticks\": 10,\n",
            "  \"network_snapshot_ticks\": 10,\n",
            "  \"train_dataset_args\": {\n",
            "    \"path\": \"/content/dataset/tfr\",\n",
            "    \"max_label_size\": 0,\n",
            "    \"resolution\": 512,\n",
            "    \"mirror_augment\": true\n",
            "  },\n",
            "  \"metric_arg_list\": [\n",
            "    {\n",
            "      \"name\": \"fid50k_full\",\n",
            "      \"class_name\": \"metrics.frechet_inception_distance.FID\",\n",
            "      \"max_reals\": null,\n",
            "      \"num_fakes\": 50000,\n",
            "      \"minibatch_per_gpu\": 8,\n",
            "      \"force_dataset_args\": {\n",
            "        \"shuffle\": false,\n",
            "        \"max_images\": null,\n",
            "        \"repeat\": false,\n",
            "        \"mirror_augment\": false\n",
            "      }\n",
            "    },\n",
            "    {\n",
            "      \"name\": \"kid50k_full\",\n",
            "      \"class_name\": \"metrics.kernel_inception_distance.KID\",\n",
            "      \"max_reals\": 1000000,\n",
            "      \"num_fakes\": 50000,\n",
            "      \"minibatch_per_gpu\": 8,\n",
            "      \"force_dataset_args\": {\n",
            "        \"shuffle\": false,\n",
            "        \"max_images\": null,\n",
            "        \"repeat\": false,\n",
            "        \"mirror_augment\": false\n",
            "      }\n",
            "    }\n",
            "  ],\n",
            "  \"metric_dataset_args\": {\n",
            "    \"path\": \"/content/dataset/tfr\",\n",
            "    \"max_label_size\": 0,\n",
            "    \"resolution\": 512,\n",
            "    \"mirror_augment\": true\n",
            "  },\n",
            "  \"total_kimg\": 1000,\n",
            "  \"minibatch_size\": 8,\n",
            "  \"minibatch_gpu\": 8,\n",
            "  \"G_smoothing_kimg\": 2.5,\n",
            "  \"G_smoothing_rampup\": null,\n",
            "  \"resume_pkl\": \"/content/drive/MyDrive/StyleGAN2-ADA/training/brain_tumor_afhqwild_pretrained/00000-tfr-mirror-auto1-kimg1000-bgc-resumecustom/network-snapshot-000160.pkl\",\n",
            "  \"run_dir\": \"/content/drive/MyDrive/StyleGAN2-ADA/training/brain_tumor_afhqwild_pretrained/00001-tfr-mirror-auto1-kimg1000-bgc-resumecustom\"\n",
            "}\n",
            "\n",
            "Output directory:  /content/drive/MyDrive/StyleGAN2-ADA/training/brain_tumor_afhqwild_pretrained/00001-tfr-mirror-auto1-kimg1000-bgc-resumecustom\n",
            "Training data:     /content/dataset/tfr\n",
            "Training length:   1000 kimg\n",
            "Resolution:        512\n",
            "Number of GPUs:    1\n",
            "\n",
            "Creating output directory...\n",
            "Loading training set...\n",
            "tcmalloc: large alloc 4294967296 bytes == 0x8186000 @  0x7f3fa7797001 0x7f3fa49db54f 0x7f3fa4a2bb58 0x7f3fa4a2fb17 0x7f3fa4ace203 0x593835 0x548c51 0x5127f1 0x549e0e 0x4bca8a 0x532b86 0x594a96 0x548cc1 0x5127f1 0x549576 0x4bca8a 0x5134a6 0x549576 0x4bca8a 0x5134a6 0x549e0e 0x4bca8a 0x5134a6 0x593dd7 0x5118f8 0x549576 0x604173 0x5f5506 0x5f8c6c 0x5f9206 0x64faf2\n",
            "tcmalloc: large alloc 4294967296 bytes == 0x7f3bb221e000 @  0x7f3fa77951e7 0x7f3fa49db46e 0x7f3fa4a2bc7b 0x7f3fa4a2c35f 0x7f3fa4ace103 0x593835 0x548c51 0x5127f1 0x549576 0x593fce 0x548ae9 0x5127f1 0x549576 0x593fce 0x548ae9 0x5127f1 0x549576 0x593fce 0x548ae9 0x5127f1 0x593dd7 0x5118f8 0x549576 0x593fce 0x548ae9 0x51566f 0x549576 0x593fce 0x548ae9 0x5127f1 0x549e0e\n",
            "tcmalloc: large alloc 4294967296 bytes == 0x7f3bb221e000 @  0x7f3fa77951e7 0x7f3fa49db46e 0x7f3fa4a2bc7b 0x7f3fa4a2c35f 0x7f3f505b5235 0x7f3f4ff38792 0x7f3f4ff38d42 0x7f3f4fef1aee 0x59371f 0x548c51 0x51566f 0x593dd7 0x511e2c 0x549e0e 0x4bcb19 0x5134a6 0x549576 0x593fce 0x511e2c 0x549e0e 0x593fce 0x511e2c 0x593dd7 0x511e2c 0x549576 0x4bcb19 0x59c019 0x595ef6 0x5134a6 0x549576 0x593fce\n",
            "Image shape: [3, 512, 512]\n",
            "Label shape: [0]\n",
            "\n",
            "Constructing networks...\n",
            "Setting up TensorFlow plugin \"fused_bias_act.cu\": Compiling... Loading... Done.\n",
            "Setting up TensorFlow plugin \"upfirdn_2d.cu\": Compiling... Loading... Done.\n",
            "Resuming from \"/content/drive/MyDrive/StyleGAN2-ADA/training/brain_tumor_afhqwild_pretrained/00000-tfr-mirror-auto1-kimg1000-bgc-resumecustom/network-snapshot-000160.pkl\"\n",
            "\n",
            "G                             Params    OutputShape         WeightShape     \n",
            "---                           ---       ---                 ---             \n",
            "latents_in                    -         (?, 512)            -               \n",
            "labels_in                     -         (?, 0)              -               \n",
            "G_mapping/Normalize           -         (?, 512)            -               \n",
            "G_mapping/Dense0              262656    (?, 512)            (512, 512)      \n",
            "G_mapping/Dense1              262656    (?, 512)            (512, 512)      \n",
            "G_mapping/Broadcast           -         (?, 16, 512)        -               \n",
            "dlatent_avg                   -         (512,)              -               \n",
            "Truncation/Lerp               -         (?, 16, 512)        -               \n",
            "G_synthesis/4x4/Const         8192      (?, 512, 4, 4)      (1, 512, 4, 4)  \n",
            "G_synthesis/4x4/Conv          2622465   (?, 512, 4, 4)      (3, 3, 512, 512)\n",
            "G_synthesis/4x4/ToRGB         264195    (?, 3, 4, 4)        (1, 1, 512, 3)  \n",
            "G_synthesis/8x8/Conv0_up      2622465   (?, 512, 8, 8)      (3, 3, 512, 512)\n",
            "G_synthesis/8x8/Conv1         2622465   (?, 512, 8, 8)      (3, 3, 512, 512)\n",
            "G_synthesis/8x8/Upsample      -         (?, 3, 8, 8)        -               \n",
            "G_synthesis/8x8/ToRGB         264195    (?, 3, 8, 8)        (1, 1, 512, 3)  \n",
            "G_synthesis/16x16/Conv0_up    2622465   (?, 512, 16, 16)    (3, 3, 512, 512)\n",
            "G_synthesis/16x16/Conv1       2622465   (?, 512, 16, 16)    (3, 3, 512, 512)\n",
            "G_synthesis/16x16/Upsample    -         (?, 3, 16, 16)      -               \n",
            "G_synthesis/16x16/ToRGB       264195    (?, 3, 16, 16)      (1, 1, 512, 3)  \n",
            "G_synthesis/32x32/Conv0_up    2622465   (?, 512, 32, 32)    (3, 3, 512, 512)\n",
            "G_synthesis/32x32/Conv1       2622465   (?, 512, 32, 32)    (3, 3, 512, 512)\n",
            "G_synthesis/32x32/Upsample    -         (?, 3, 32, 32)      -               \n",
            "G_synthesis/32x32/ToRGB       264195    (?, 3, 32, 32)      (1, 1, 512, 3)  \n",
            "G_synthesis/64x64/Conv0_up    2622465   (?, 512, 64, 64)    (3, 3, 512, 512)\n",
            "G_synthesis/64x64/Conv1       2622465   (?, 512, 64, 64)    (3, 3, 512, 512)\n",
            "G_synthesis/64x64/Upsample    -         (?, 3, 64, 64)      -               \n",
            "G_synthesis/64x64/ToRGB       264195    (?, 3, 64, 64)      (1, 1, 512, 3)  \n",
            "G_synthesis/128x128/Conv0_up  1442561   (?, 256, 128, 128)  (3, 3, 512, 256)\n",
            "G_synthesis/128x128/Conv1     721409    (?, 256, 128, 128)  (3, 3, 256, 256)\n",
            "G_synthesis/128x128/Upsample  -         (?, 3, 128, 128)    -               \n",
            "G_synthesis/128x128/ToRGB     132099    (?, 3, 128, 128)    (1, 1, 256, 3)  \n",
            "G_synthesis/256x256/Conv0_up  426369    (?, 128, 256, 256)  (3, 3, 256, 128)\n",
            "G_synthesis/256x256/Conv1     213249    (?, 128, 256, 256)  (3, 3, 128, 128)\n",
            "G_synthesis/256x256/Upsample  -         (?, 3, 256, 256)    -               \n",
            "G_synthesis/256x256/ToRGB     66051     (?, 3, 256, 256)    (1, 1, 128, 3)  \n",
            "G_synthesis/512x512/Conv0_up  139457    (?, 64, 512, 512)   (3, 3, 128, 64) \n",
            "G_synthesis/512x512/Conv1     69761     (?, 64, 512, 512)   (3, 3, 64, 64)  \n",
            "G_synthesis/512x512/Upsample  -         (?, 3, 512, 512)    -               \n",
            "G_synthesis/512x512/ToRGB     33027     (?, 3, 512, 512)    (1, 1, 64, 3)   \n",
            "---                           ---       ---                 ---             \n",
            "Total                         28700647                                      \n",
            "\n",
            "\n",
            "D                    Params    OutputShape         WeightShape     \n",
            "---                  ---       ---                 ---             \n",
            "images_in            -         (?, 3, 512, 512)    -               \n",
            "labels_in            -         (?, 0)              -               \n",
            "512x512/FromRGB      256       (?, 64, 512, 512)   (1, 1, 3, 64)   \n",
            "512x512/Conv0        36928     (?, 64, 512, 512)   (3, 3, 64, 64)  \n",
            "512x512/Conv1_down   73856     (?, 128, 256, 256)  (3, 3, 64, 128) \n",
            "512x512/Skip         8192      (?, 128, 256, 256)  (1, 1, 64, 128) \n",
            "256x256/Conv0        147584    (?, 128, 256, 256)  (3, 3, 128, 128)\n",
            "256x256/Conv1_down   295168    (?, 256, 128, 128)  (3, 3, 128, 256)\n",
            "256x256/Skip         32768     (?, 256, 128, 128)  (1, 1, 128, 256)\n",
            "128x128/Conv0        590080    (?, 256, 128, 128)  (3, 3, 256, 256)\n",
            "128x128/Conv1_down   1180160   (?, 512, 64, 64)    (3, 3, 256, 512)\n",
            "128x128/Skip         131072    (?, 512, 64, 64)    (1, 1, 256, 512)\n",
            "64x64/Conv0          2359808   (?, 512, 64, 64)    (3, 3, 512, 512)\n",
            "64x64/Conv1_down     2359808   (?, 512, 32, 32)    (3, 3, 512, 512)\n",
            "64x64/Skip           262144    (?, 512, 32, 32)    (1, 1, 512, 512)\n",
            "32x32/Conv0          2359808   (?, 512, 32, 32)    (3, 3, 512, 512)\n",
            "32x32/Conv1_down     2359808   (?, 512, 16, 16)    (3, 3, 512, 512)\n",
            "32x32/Skip           262144    (?, 512, 16, 16)    (1, 1, 512, 512)\n",
            "16x16/Conv0          2359808   (?, 512, 16, 16)    (3, 3, 512, 512)\n",
            "16x16/Conv1_down     2359808   (?, 512, 8, 8)      (3, 3, 512, 512)\n",
            "16x16/Skip           262144    (?, 512, 8, 8)      (1, 1, 512, 512)\n",
            "8x8/Conv0            2359808   (?, 512, 8, 8)      (3, 3, 512, 512)\n",
            "8x8/Conv1_down       2359808   (?, 512, 4, 4)      (3, 3, 512, 512)\n",
            "8x8/Skip             262144    (?, 512, 4, 4)      (1, 1, 512, 512)\n",
            "4x4/MinibatchStddev  -         (?, 513, 4, 4)      -               \n",
            "4x4/Conv             2364416   (?, 512, 4, 4)      (3, 3, 513, 512)\n",
            "4x4/Dense0           4194816   (?, 512)            (8192, 512)     \n",
            "Output               513       (?, 1)              (512, 1)        \n",
            "---                  ---       ---                 ---             \n",
            "Total                28982849                                      \n",
            "\n",
            "Exporting sample images...\n",
            "Replicating networks across 1 GPUs...\n",
            "Initializing augmentations...\n",
            "Setting up optimizers...\n",
            "Constructing training graph...\n",
            "Finalizing training ops...\n",
            "Initializing metrics...\n",
            "Training for 1000 kimg...\n",
            "\n",
            "tick 0     kimg 0.0      time 2m 20s       sec/tick 33.9    sec/kimg 1060.45 maintenance 106.4  gpumem 10.0  augment 0.000\n",
            "Evaluating metrics...\n",
            "Downloading https://nvlabs-fi-cdn.nvidia.com/stylegan2-ada/pretrained/metrics/inception_v3_features.pkl ... done\n",
            "Calculating real image statistics for fid50k_full...\n",
            "tcmalloc: large alloc 4294967296 bytes == 0x7f36384d6000 @  0x7f3fa7797001 0x7f3fa49db54f 0x7f3fa4a2bb58 0x7f3fa4a2fb17 0x7f3fa4ace203 0x593835 0x548c51 0x5127f1 0x549e0e 0x4bca8a 0x532b86 0x594a96 0x548cc1 0x5127f1 0x549576 0x4bca8a 0x5134a6 0x593dd7 0x511e2c 0x598ef4 0x511f68 0x549576 0x593fce 0x548ae9 0x5127f1 0x549576 0x593fce 0x548ae9 0x5127f1 0x549576 0x4bca8a\n",
            "tcmalloc: large alloc 4294967296 bytes == 0x7f3537cd6000 @  0x7f3fa77951e7 0x7f3fa49db46e 0x7f3fa4a2bc7b 0x7f3fa4a2c35f 0x7f3fa4ace103 0x593835 0x548c51 0x5127f1 0x549576 0x593fce 0x548ae9 0x5127f1 0x549576 0x593fce 0x548ae9 0x5127f1 0x549576 0x593fce 0x548ae9 0x5127f1 0x593dd7 0x5118f8 0x549576 0x593fce 0x548ae9 0x51566f 0x549576 0x593fce 0x548ae9 0x5127f1 0x549e0e\n",
            "tcmalloc: large alloc 4294967296 bytes == 0x7f3537cd6000 @  0x7f3fa77951e7 0x7f3fa49db46e 0x7f3fa4a2bc7b 0x7f3fa4a2c35f 0x7f3f505b5235 0x7f3f4ff38792 0x7f3f4ff38d42 0x7f3f4fef1aee 0x59371f 0x548c51 0x51566f 0x593dd7 0x511e2c 0x549e0e 0x4bcb19 0x5134a6 0x549576 0x593fce 0x511e2c 0x549e0e 0x593fce 0x511e2c 0x593dd7 0x511e2c 0x549576 0x4bcb19 0x59c019 0x595ef6 0x5134a6 0x549576 0x593fce\n",
            "network-snapshot-000000        time 27m 13s      fid50k_full 63.2041\n",
            "Calculating real image statistics for kid50k_full...\n",
            "tcmalloc: large alloc 4294967296 bytes == 0x7f3537cd6000 @  0x7f3fa7797001 0x7f3fa49db54f 0x7f3fa4a2bb58 0x7f3fa4a2fb17 0x7f3fa4ace203 0x593835 0x548c51 0x5127f1 0x549e0e 0x4bca8a 0x532b86 0x594a96 0x548cc1 0x5127f1 0x549576 0x4bca8a 0x5134a6 0x593dd7 0x511e2c 0x598ef4 0x511f68 0x549576 0x593fce 0x548ae9 0x5127f1 0x549576 0x593fce 0x548ae9 0x5127f1 0x549576 0x4bca8a\n",
            "tcmalloc: large alloc 4294967296 bytes == 0x7f36384d6000 @  0x7f3fa77951e7 0x7f3fa49db46e 0x7f3fa4a2bc7b 0x7f3fa4a2c35f 0x7f3fa4ace103 0x593835 0x548c51 0x5127f1 0x549576 0x593fce 0x548ae9 0x5127f1 0x549576 0x593fce 0x548ae9 0x5127f1 0x549576 0x593fce 0x548ae9 0x5127f1 0x593dd7 0x5118f8 0x549576 0x593fce 0x548ae9 0x51566f 0x549576 0x593fce 0x548ae9 0x5127f1 0x549e0e\n",
            "tcmalloc: large alloc 4294967296 bytes == 0x7f36384d6000 @  0x7f3fa77951e7 0x7f3fa49db46e 0x7f3fa4a2bc7b 0x7f3fa4a2c35f 0x7f3f505b5235 0x7f3f4ff38792 0x7f3f4ff38d42 0x7f3f4fef1aee 0x59371f 0x548c51 0x51566f 0x593dd7 0x511e2c 0x549e0e 0x4bcb19 0x5134a6 0x549576 0x593fce 0x511e2c 0x549e0e 0x593fce 0x511e2c 0x593dd7 0x511e2c 0x549576 0x4bcb19 0x59c019 0x595ef6 0x5134a6 0x549576 0x593fce\n",
            "network-snapshot-000000        time 27m 01s      kid50k_full 0.01521861\n",
            "Traceback (most recent call last):\n",
            "  File \"/content/drive/MyDrive/StyleGAN2-ADA/stylegan2-ada/train.py\", line 561, in <module>\n",
            "    main()\n",
            "  File \"/content/drive/MyDrive/StyleGAN2-ADA/stylegan2-ada/train.py\", line 553, in main\n",
            "    run_training(**vars(args))\n",
            "  File \"/content/drive/MyDrive/StyleGAN2-ADA/stylegan2-ada/train.py\", line 451, in run_training\n",
            "    training_loop.training_loop(**training_options)\n",
            "  File \"/content/drive/MyDrive/StyleGAN2-ADA/stylegan2-ada/training/training_loop.py\", line 249, in training_loop\n",
            "    tflib.run(G_reg_op)\n",
            "  File \"/content/drive/MyDrive/StyleGAN2-ADA/stylegan2-ada/dnnlib/tflib/tfutil.py\", line 33, in run\n",
            "    return tf.get_default_session().run(*args, **kwargs)\n",
            "  File \"/tensorflow-1.15.2/python3.7/tensorflow_core/python/client/session.py\", line 956, in run\n",
            "    run_metadata_ptr)\n",
            "  File \"/tensorflow-1.15.2/python3.7/tensorflow_core/python/client/session.py\", line 1180, in _run\n",
            "    feed_dict_tensor, options, run_metadata)\n",
            "  File \"/tensorflow-1.15.2/python3.7/tensorflow_core/python/client/session.py\", line 1359, in _do_run\n",
            "    run_metadata)\n",
            "  File \"/tensorflow-1.15.2/python3.7/tensorflow_core/python/client/session.py\", line 1365, in _do_call\n",
            "    return fn(*args)\n",
            "  File \"/tensorflow-1.15.2/python3.7/tensorflow_core/python/client/session.py\", line 1350, in _run_fn\n",
            "    target_list, run_metadata)\n",
            "  File \"/tensorflow-1.15.2/python3.7/tensorflow_core/python/client/session.py\", line 1443, in _call_tf_sessionrun\n",
            "    run_metadata)\n",
            "KeyboardInterrupt\n"
          ]
        }
      ],
      "source": [
        "training_path = project_path / 'training' / 'brain_tumor_afhqwild_pretrained'\n",
        "if not training_path.is_dir():\n",
        "    %mkdir \"{training_path}\"\n",
        "\n",
        "#how often should the model generate samples and a .pkl file\n",
        "snapshot_count = 10\n",
        "#should the images be mirrored\n",
        "mirrored = True\n",
        "metric_list = \"fid50k_full,kid50k_full\"\n",
        "#augments\n",
        "augs = 'bgc'\n",
        "kimg = 1000\n",
        "\n",
        "resume_from = project_path / 'training' / 'brain_tumor_afhqwild_pretrained'/ '00000-tfr-mirror-auto1-kimg1000-bgc-resumecustom' / 'network-snapshot-000160.pkl'#project_path / 'pretrained_models' / 'afhqwild.pkl'\n",
        "\n",
        "!python \"{stylegan2_repo_path / 'train.py'}\" --outdir=\"{training_path}\" \\\n",
        "    --data=\"{local_dataset_path}\" --resume=\"{resume_from}\" \\\n",
        "    --snap={snapshot_count} --augpipe={augs} \\\n",
        "    --mirror={mirrored} --metrics={metric_list} --kimg={kimg}"
      ]
    },
    {
      "cell_type": "code",
      "execution_count": null,
      "metadata": {
        "colab": {
          "base_uri": "https://localhost:8080/"
        },
        "id": "rzRtS1Z05jh3",
        "outputId": "7026d970-5fbf-4834-d55e-c87768e358ab"
      },
      "outputs": [
        {
          "name": "stdout",
          "output_type": "stream",
          "text": [
            "/content/drive/MyDrive/StyleGAN2-ADA\n"
          ]
        }
      ],
      "source": [
        "print(project_path)"
      ]
    },
    {
      "cell_type": "markdown",
      "metadata": {
        "id": "BD_fg1IUo7sG"
      },
      "source": [
        "Generate images using a pre-trained network once everything is set up."
      ]
    },
    {
      "cell_type": "code",
      "execution_count": null,
      "metadata": {
        "colab": {
          "base_uri": "https://localhost:8080/"
        },
        "id": "xnlrb9QzgaGp",
        "outputId": "6a4cc866-17a0-48bf-f953-8c28c6ea5333"
      },
      "outputs": [
        {
          "output_type": "stream",
          "name": "stdout",
          "text": [
            "Looking in indexes: https://pypi.org/simple, https://us-python.pkg.dev/colab-wheels/public/simple/\n",
            "Collecting opensimplex\n",
            "  Downloading opensimplex-0.4.2-py3-none-any.whl (17 kB)\n",
            "Requirement already satisfied: numpy>=1.20 in /usr/local/lib/python3.7/dist-packages (from opensimplex) (1.21.6)\n",
            "Installing collected packages: opensimplex\n",
            "Successfully installed opensimplex-0.4.2\n",
            "usage: generate.py [-h] --network NETWORK_PKL\n",
            "                   (--seeds SEEDS | --dlatents DLATENTS_NPZ)\n",
            "                   [--trunc TRUNCATION_PSI] [--class CLASS_IDX] --outdir DIR\n",
            "\n",
            "Generate images using pretrained network pickle.\n",
            "\n",
            "optional arguments:\n",
            "  -h, --help            show this help message and exit\n",
            "  --network NETWORK_PKL\n",
            "                        Network pickle filename\n",
            "  --seeds SEEDS         List of random seeds\n",
            "  --dlatents DLATENTS_NPZ\n",
            "                        Generate images for saved dlatents\n",
            "  --trunc TRUNCATION_PSI\n",
            "                        Truncation psi (default: 0.5)\n",
            "  --class CLASS_IDX     Class label (default: unconditional)\n",
            "  --outdir DIR          Where to save the output images\n",
            "\n",
            "examples:\n",
            "\n",
            "  # Generate curated MetFaces images without truncation (Fig.10 left)\n",
            "  python generate.py --outdir=out --trunc=1 --seeds=85,265,297,849 \\\n",
            "      --network=https://nvlabs-fi-cdn.nvidia.com/stylegan2-ada/pretrained/metfaces.pkl\n",
            "\n",
            "  # Generate uncurated MetFaces images with truncation (Fig.12 upper left)\n",
            "  python generate.py --outdir=out --trunc=0.7 --seeds=600-605 \\\n",
            "      --network=https://nvlabs-fi-cdn.nvidia.com/stylegan2-ada/pretrained/metfaces.pkl\n",
            "\n",
            "  # Generate class conditional CIFAR-10 images (Fig.17 left, Car)\n",
            "  python generate.py --outdir=out --trunc=1 --seeds=0-35 --class=1 \\\n",
            "      --network=https://nvlabs-fi-cdn.nvidia.com/stylegan2-ada/pretrained/cifar10.pkl\n",
            "\n",
            "  # Render image from projected latent vector\n",
            "  python generate.py --outdir=out --dlatents=out/dlatents.npz \\\n",
            "      --network=https://nvlabs-fi-cdn.nvidia.com/stylegan2-ada/pretrained/ffhq.pkl\n"
          ]
        }
      ],
      "source": [
        "%pip install opensimplex\n",
        "!python \"{stylegan2_repo_path / 'generate.py'}\" generate-images --help "
      ]
    },
    {
      "cell_type": "code",
      "execution_count": null,
      "metadata": {
        "colab": {
          "base_uri": "https://localhost:8080/"
        },
        "id": "FmOBJXzFzJqu",
        "outputId": "2b536ada-6511-4f23-9812-57838f7d18ba"
      },
      "outputs": [
        {
          "name": "stdout",
          "output_type": "stream",
          "text": [
            "/content/drive/MyDrive/StyleGAN2-ADA/stylegan2-ada\n"
          ]
        }
      ],
      "source": [
        "print(stylegan2_repo_path)"
      ]
    },
    {
      "cell_type": "code",
      "execution_count": null,
      "metadata": {
        "colab": {
          "base_uri": "https://localhost:8080/"
        },
        "id": "qQqYjeRsfYD2",
        "outputId": "2ad4d0d4-48db-46ab-bd6e-720862afce6b"
      },
      "outputs": [
        {
          "output_type": "stream",
          "name": "stdout",
          "text": [
            "Loading networks from \"/content/drive/MyDrive/StyleGAN2-ADA/training/brain_tumor_afhqcat_pretrained/00001-tfr-mirror-auto1-kimg1000-bgc-resumecustom/network-snapshot-000160.pkl\"...\n",
            "Setting up TensorFlow plugin \"fused_bias_act.cu\": Loading... Done.\n",
            "Setting up TensorFlow plugin \"upfirdn_2d.cu\": Loading... Done.\n",
            "Generating image for seed 6265 (0/500) ...\n",
            "Generating image for seed 6266 (1/500) ...\n",
            "Generating image for seed 6267 (2/500) ...\n",
            "Generating image for seed 6268 (3/500) ...\n",
            "Generating image for seed 6269 (4/500) ...\n",
            "Generating image for seed 6270 (5/500) ...\n",
            "Generating image for seed 6271 (6/500) ...\n",
            "Generating image for seed 6272 (7/500) ...\n",
            "Generating image for seed 6273 (8/500) ...\n",
            "Generating image for seed 6274 (9/500) ...\n",
            "Generating image for seed 6275 (10/500) ...\n",
            "Generating image for seed 6276 (11/500) ...\n",
            "Generating image for seed 6277 (12/500) ...\n",
            "Generating image for seed 6278 (13/500) ...\n",
            "Generating image for seed 6279 (14/500) ...\n",
            "Generating image for seed 6280 (15/500) ...\n",
            "Generating image for seed 6281 (16/500) ...\n",
            "Generating image for seed 6282 (17/500) ...\n",
            "Generating image for seed 6283 (18/500) ...\n",
            "Generating image for seed 6284 (19/500) ...\n",
            "Generating image for seed 6285 (20/500) ...\n",
            "Generating image for seed 6286 (21/500) ...\n",
            "Generating image for seed 6287 (22/500) ...\n",
            "Generating image for seed 6288 (23/500) ...\n",
            "Generating image for seed 6289 (24/500) ...\n",
            "Generating image for seed 6290 (25/500) ...\n",
            "Generating image for seed 6291 (26/500) ...\n",
            "Generating image for seed 6292 (27/500) ...\n",
            "Generating image for seed 6293 (28/500) ...\n",
            "Generating image for seed 6294 (29/500) ...\n",
            "Generating image for seed 6295 (30/500) ...\n",
            "Generating image for seed 6296 (31/500) ...\n",
            "Generating image for seed 6297 (32/500) ...\n",
            "Generating image for seed 6298 (33/500) ...\n",
            "Generating image for seed 6299 (34/500) ...\n",
            "Generating image for seed 6300 (35/500) ...\n",
            "Generating image for seed 6301 (36/500) ...\n",
            "Generating image for seed 6302 (37/500) ...\n",
            "Generating image for seed 6303 (38/500) ...\n",
            "Generating image for seed 6304 (39/500) ...\n",
            "Generating image for seed 6305 (40/500) ...\n",
            "Generating image for seed 6306 (41/500) ...\n",
            "Generating image for seed 6307 (42/500) ...\n",
            "Generating image for seed 6308 (43/500) ...\n",
            "Generating image for seed 6309 (44/500) ...\n",
            "Generating image for seed 6310 (45/500) ...\n",
            "Generating image for seed 6311 (46/500) ...\n",
            "Generating image for seed 6312 (47/500) ...\n",
            "Generating image for seed 6313 (48/500) ...\n",
            "Generating image for seed 6314 (49/500) ...\n",
            "Generating image for seed 6315 (50/500) ...\n",
            "Generating image for seed 6316 (51/500) ...\n",
            "Generating image for seed 6317 (52/500) ...\n",
            "Generating image for seed 6318 (53/500) ...\n",
            "Generating image for seed 6319 (54/500) ...\n",
            "Generating image for seed 6320 (55/500) ...\n",
            "Generating image for seed 6321 (56/500) ...\n",
            "Generating image for seed 6322 (57/500) ...\n",
            "Generating image for seed 6323 (58/500) ...\n",
            "Generating image for seed 6324 (59/500) ...\n",
            "Generating image for seed 6325 (60/500) ...\n",
            "Generating image for seed 6326 (61/500) ...\n",
            "Generating image for seed 6327 (62/500) ...\n",
            "Generating image for seed 6328 (63/500) ...\n",
            "Generating image for seed 6329 (64/500) ...\n",
            "Generating image for seed 6330 (65/500) ...\n",
            "Generating image for seed 6331 (66/500) ...\n",
            "Generating image for seed 6332 (67/500) ...\n",
            "Generating image for seed 6333 (68/500) ...\n",
            "Generating image for seed 6334 (69/500) ...\n",
            "Generating image for seed 6335 (70/500) ...\n",
            "Generating image for seed 6336 (71/500) ...\n",
            "Generating image for seed 6337 (72/500) ...\n",
            "Generating image for seed 6338 (73/500) ...\n",
            "Generating image for seed 6339 (74/500) ...\n",
            "Generating image for seed 6340 (75/500) ...\n",
            "Generating image for seed 6341 (76/500) ...\n",
            "Generating image for seed 6342 (77/500) ...\n",
            "Generating image for seed 6343 (78/500) ...\n",
            "Generating image for seed 6344 (79/500) ...\n",
            "Generating image for seed 6345 (80/500) ...\n",
            "Generating image for seed 6346 (81/500) ...\n",
            "Generating image for seed 6347 (82/500) ...\n",
            "Generating image for seed 6348 (83/500) ...\n",
            "Generating image for seed 6349 (84/500) ...\n",
            "Generating image for seed 6350 (85/500) ...\n",
            "Generating image for seed 6351 (86/500) ...\n",
            "Generating image for seed 6352 (87/500) ...\n",
            "Generating image for seed 6353 (88/500) ...\n",
            "Generating image for seed 6354 (89/500) ...\n",
            "Generating image for seed 6355 (90/500) ...\n",
            "Generating image for seed 6356 (91/500) ...\n",
            "Generating image for seed 6357 (92/500) ...\n",
            "Generating image for seed 6358 (93/500) ...\n",
            "Generating image for seed 6359 (94/500) ...\n",
            "Generating image for seed 6360 (95/500) ...\n",
            "Generating image for seed 6361 (96/500) ...\n",
            "Generating image for seed 6362 (97/500) ...\n",
            "Generating image for seed 6363 (98/500) ...\n",
            "Generating image for seed 6364 (99/500) ...\n",
            "Generating image for seed 6365 (100/500) ...\n",
            "Generating image for seed 6366 (101/500) ...\n",
            "Generating image for seed 6367 (102/500) ...\n",
            "Generating image for seed 6368 (103/500) ...\n",
            "Generating image for seed 6369 (104/500) ...\n",
            "Generating image for seed 6370 (105/500) ...\n",
            "Generating image for seed 6371 (106/500) ...\n",
            "Generating image for seed 6372 (107/500) ...\n",
            "Generating image for seed 6373 (108/500) ...\n",
            "Generating image for seed 6374 (109/500) ...\n",
            "Generating image for seed 6375 (110/500) ...\n",
            "Generating image for seed 6376 (111/500) ...\n",
            "Generating image for seed 6377 (112/500) ...\n",
            "Generating image for seed 6378 (113/500) ...\n",
            "Generating image for seed 6379 (114/500) ...\n",
            "Generating image for seed 6380 (115/500) ...\n",
            "Generating image for seed 6381 (116/500) ...\n",
            "Generating image for seed 6382 (117/500) ...\n",
            "Generating image for seed 6383 (118/500) ...\n",
            "Generating image for seed 6384 (119/500) ...\n",
            "Generating image for seed 6385 (120/500) ...\n",
            "Generating image for seed 6386 (121/500) ...\n",
            "Generating image for seed 6387 (122/500) ...\n",
            "Generating image for seed 6388 (123/500) ...\n",
            "Generating image for seed 6389 (124/500) ...\n",
            "Generating image for seed 6390 (125/500) ...\n",
            "Generating image for seed 6391 (126/500) ...\n",
            "Generating image for seed 6392 (127/500) ...\n",
            "Generating image for seed 6393 (128/500) ...\n",
            "Generating image for seed 6394 (129/500) ...\n",
            "Generating image for seed 6395 (130/500) ...\n",
            "Generating image for seed 6396 (131/500) ...\n",
            "Generating image for seed 6397 (132/500) ...\n",
            "Generating image for seed 6398 (133/500) ...\n",
            "Generating image for seed 6399 (134/500) ...\n",
            "Generating image for seed 6400 (135/500) ...\n",
            "Generating image for seed 6401 (136/500) ...\n",
            "Generating image for seed 6402 (137/500) ...\n",
            "Generating image for seed 6403 (138/500) ...\n",
            "Generating image for seed 6404 (139/500) ...\n",
            "Generating image for seed 6405 (140/500) ...\n",
            "Generating image for seed 6406 (141/500) ...\n",
            "Generating image for seed 6407 (142/500) ...\n",
            "Generating image for seed 6408 (143/500) ...\n",
            "Generating image for seed 6409 (144/500) ...\n",
            "Generating image for seed 6410 (145/500) ...\n",
            "Generating image for seed 6411 (146/500) ...\n",
            "Generating image for seed 6412 (147/500) ...\n",
            "Generating image for seed 6413 (148/500) ...\n",
            "Generating image for seed 6414 (149/500) ...\n",
            "Generating image for seed 6415 (150/500) ...\n",
            "Generating image for seed 6416 (151/500) ...\n",
            "Generating image for seed 6417 (152/500) ...\n",
            "Generating image for seed 6418 (153/500) ...\n",
            "Generating image for seed 6419 (154/500) ...\n",
            "Generating image for seed 6420 (155/500) ...\n",
            "Generating image for seed 6421 (156/500) ...\n",
            "Generating image for seed 6422 (157/500) ...\n",
            "Generating image for seed 6423 (158/500) ...\n",
            "Generating image for seed 6424 (159/500) ...\n",
            "Generating image for seed 6425 (160/500) ...\n",
            "Generating image for seed 6426 (161/500) ...\n",
            "Generating image for seed 6427 (162/500) ...\n",
            "Generating image for seed 6428 (163/500) ...\n",
            "Generating image for seed 6429 (164/500) ...\n",
            "Generating image for seed 6430 (165/500) ...\n",
            "Generating image for seed 6431 (166/500) ...\n",
            "Generating image for seed 6432 (167/500) ...\n",
            "Generating image for seed 6433 (168/500) ...\n",
            "Generating image for seed 6434 (169/500) ...\n",
            "Generating image for seed 6435 (170/500) ...\n",
            "Generating image for seed 6436 (171/500) ...\n",
            "Generating image for seed 6437 (172/500) ...\n",
            "Generating image for seed 6438 (173/500) ...\n",
            "Generating image for seed 6439 (174/500) ...\n",
            "Generating image for seed 6440 (175/500) ...\n",
            "Generating image for seed 6441 (176/500) ...\n",
            "Generating image for seed 6442 (177/500) ...\n",
            "Generating image for seed 6443 (178/500) ...\n",
            "Generating image for seed 6444 (179/500) ...\n",
            "Generating image for seed 6445 (180/500) ...\n",
            "Generating image for seed 6446 (181/500) ...\n",
            "Generating image for seed 6447 (182/500) ...\n",
            "Generating image for seed 6448 (183/500) ...\n",
            "Generating image for seed 6449 (184/500) ...\n",
            "Generating image for seed 6450 (185/500) ...\n",
            "Generating image for seed 6451 (186/500) ...\n",
            "Generating image for seed 6452 (187/500) ...\n",
            "Generating image for seed 6453 (188/500) ...\n",
            "Generating image for seed 6454 (189/500) ...\n",
            "Generating image for seed 6455 (190/500) ...\n",
            "Generating image for seed 6456 (191/500) ...\n",
            "Generating image for seed 6457 (192/500) ...\n",
            "Generating image for seed 6458 (193/500) ...\n",
            "Generating image for seed 6459 (194/500) ...\n",
            "Generating image for seed 6460 (195/500) ...\n",
            "Generating image for seed 6461 (196/500) ...\n",
            "Generating image for seed 6462 (197/500) ...\n",
            "Generating image for seed 6463 (198/500) ...\n",
            "Generating image for seed 6464 (199/500) ...\n",
            "Generating image for seed 6465 (200/500) ...\n",
            "Generating image for seed 6466 (201/500) ...\n",
            "Generating image for seed 6467 (202/500) ...\n",
            "Generating image for seed 6468 (203/500) ...\n",
            "Generating image for seed 6469 (204/500) ...\n",
            "Generating image for seed 6470 (205/500) ...\n",
            "Generating image for seed 6471 (206/500) ...\n",
            "Generating image for seed 6472 (207/500) ...\n",
            "Generating image for seed 6473 (208/500) ...\n",
            "Generating image for seed 6474 (209/500) ...\n",
            "Generating image for seed 6475 (210/500) ...\n",
            "Generating image for seed 6476 (211/500) ...\n",
            "Generating image for seed 6477 (212/500) ...\n",
            "Generating image for seed 6478 (213/500) ...\n",
            "Generating image for seed 6479 (214/500) ...\n",
            "Generating image for seed 6480 (215/500) ...\n",
            "Generating image for seed 6481 (216/500) ...\n",
            "Generating image for seed 6482 (217/500) ...\n",
            "Generating image for seed 6483 (218/500) ...\n",
            "Generating image for seed 6484 (219/500) ...\n",
            "Generating image for seed 6485 (220/500) ...\n",
            "Generating image for seed 6486 (221/500) ...\n",
            "Generating image for seed 6487 (222/500) ...\n",
            "Generating image for seed 6488 (223/500) ...\n",
            "Generating image for seed 6489 (224/500) ...\n",
            "Generating image for seed 6490 (225/500) ...\n",
            "Generating image for seed 6491 (226/500) ...\n",
            "Generating image for seed 6492 (227/500) ...\n",
            "Generating image for seed 6493 (228/500) ...\n",
            "Generating image for seed 6494 (229/500) ...\n",
            "Generating image for seed 6495 (230/500) ...\n",
            "Generating image for seed 6496 (231/500) ...\n",
            "Generating image for seed 6497 (232/500) ...\n",
            "Generating image for seed 6498 (233/500) ...\n",
            "Generating image for seed 6499 (234/500) ...\n",
            "Generating image for seed 6500 (235/500) ...\n",
            "Generating image for seed 6501 (236/500) ...\n",
            "Generating image for seed 6502 (237/500) ...\n",
            "Generating image for seed 6503 (238/500) ...\n",
            "Generating image for seed 6504 (239/500) ...\n",
            "Generating image for seed 6505 (240/500) ...\n",
            "Generating image for seed 6506 (241/500) ...\n",
            "Generating image for seed 6507 (242/500) ...\n",
            "Generating image for seed 6508 (243/500) ...\n",
            "Generating image for seed 6509 (244/500) ...\n",
            "Generating image for seed 6510 (245/500) ...\n",
            "Generating image for seed 6511 (246/500) ...\n",
            "Generating image for seed 6512 (247/500) ...\n",
            "Generating image for seed 6513 (248/500) ...\n",
            "Generating image for seed 6514 (249/500) ...\n",
            "Generating image for seed 6515 (250/500) ...\n",
            "Generating image for seed 6516 (251/500) ...\n",
            "Generating image for seed 6517 (252/500) ...\n",
            "Generating image for seed 6518 (253/500) ...\n",
            "Generating image for seed 6519 (254/500) ...\n",
            "Generating image for seed 6520 (255/500) ...\n",
            "Generating image for seed 6521 (256/500) ...\n",
            "Generating image for seed 6522 (257/500) ...\n",
            "Generating image for seed 6523 (258/500) ...\n",
            "Generating image for seed 6524 (259/500) ...\n",
            "Generating image for seed 6525 (260/500) ...\n",
            "Generating image for seed 6526 (261/500) ...\n",
            "Generating image for seed 6527 (262/500) ...\n",
            "Generating image for seed 6528 (263/500) ...\n",
            "Generating image for seed 6529 (264/500) ...\n",
            "Generating image for seed 6530 (265/500) ...\n",
            "Generating image for seed 6531 (266/500) ...\n",
            "Generating image for seed 6532 (267/500) ...\n",
            "Generating image for seed 6533 (268/500) ...\n",
            "Generating image for seed 6534 (269/500) ...\n",
            "Generating image for seed 6535 (270/500) ...\n",
            "Generating image for seed 6536 (271/500) ...\n",
            "Generating image for seed 6537 (272/500) ...\n",
            "Generating image for seed 6538 (273/500) ...\n",
            "Generating image for seed 6539 (274/500) ...\n",
            "Generating image for seed 6540 (275/500) ...\n",
            "Generating image for seed 6541 (276/500) ...\n",
            "Generating image for seed 6542 (277/500) ...\n",
            "Generating image for seed 6543 (278/500) ...\n",
            "Generating image for seed 6544 (279/500) ...\n",
            "Generating image for seed 6545 (280/500) ...\n",
            "Generating image for seed 6546 (281/500) ...\n",
            "Generating image for seed 6547 (282/500) ...\n",
            "Generating image for seed 6548 (283/500) ...\n",
            "Generating image for seed 6549 (284/500) ...\n",
            "Generating image for seed 6550 (285/500) ...\n",
            "Generating image for seed 6551 (286/500) ...\n",
            "Generating image for seed 6552 (287/500) ...\n",
            "Generating image for seed 6553 (288/500) ...\n",
            "Generating image for seed 6554 (289/500) ...\n",
            "Generating image for seed 6555 (290/500) ...\n",
            "Generating image for seed 6556 (291/500) ...\n",
            "Generating image for seed 6557 (292/500) ...\n",
            "Generating image for seed 6558 (293/500) ...\n",
            "Generating image for seed 6559 (294/500) ...\n",
            "Generating image for seed 6560 (295/500) ...\n",
            "Generating image for seed 6561 (296/500) ...\n",
            "Generating image for seed 6562 (297/500) ...\n",
            "Generating image for seed 6563 (298/500) ...\n",
            "Generating image for seed 6564 (299/500) ...\n",
            "Generating image for seed 6565 (300/500) ...\n",
            "Generating image for seed 6566 (301/500) ...\n",
            "Generating image for seed 6567 (302/500) ...\n",
            "Generating image for seed 6568 (303/500) ...\n",
            "Generating image for seed 6569 (304/500) ...\n",
            "Generating image for seed 6570 (305/500) ...\n",
            "Generating image for seed 6571 (306/500) ...\n",
            "Generating image for seed 6572 (307/500) ...\n",
            "Generating image for seed 6573 (308/500) ...\n",
            "Generating image for seed 6574 (309/500) ...\n",
            "Generating image for seed 6575 (310/500) ...\n",
            "Generating image for seed 6576 (311/500) ...\n",
            "Generating image for seed 6577 (312/500) ...\n",
            "Generating image for seed 6578 (313/500) ...\n",
            "Generating image for seed 6579 (314/500) ...\n",
            "Generating image for seed 6580 (315/500) ...\n",
            "Generating image for seed 6581 (316/500) ...\n",
            "Generating image for seed 6582 (317/500) ...\n",
            "Generating image for seed 6583 (318/500) ...\n",
            "Generating image for seed 6584 (319/500) ...\n",
            "Generating image for seed 6585 (320/500) ...\n",
            "Generating image for seed 6586 (321/500) ...\n",
            "Generating image for seed 6587 (322/500) ...\n",
            "Generating image for seed 6588 (323/500) ...\n",
            "Generating image for seed 6589 (324/500) ...\n",
            "Generating image for seed 6590 (325/500) ...\n",
            "Generating image for seed 6591 (326/500) ...\n",
            "Generating image for seed 6592 (327/500) ...\n",
            "Generating image for seed 6593 (328/500) ...\n",
            "Generating image for seed 6594 (329/500) ...\n",
            "Generating image for seed 6595 (330/500) ...\n",
            "Generating image for seed 6596 (331/500) ...\n",
            "Generating image for seed 6597 (332/500) ...\n",
            "Generating image for seed 6598 (333/500) ...\n",
            "Generating image for seed 6599 (334/500) ...\n",
            "Generating image for seed 6600 (335/500) ...\n",
            "Generating image for seed 6601 (336/500) ...\n",
            "Generating image for seed 6602 (337/500) ...\n",
            "Generating image for seed 6603 (338/500) ...\n",
            "Generating image for seed 6604 (339/500) ...\n",
            "Generating image for seed 6605 (340/500) ...\n",
            "Generating image for seed 6606 (341/500) ...\n",
            "Generating image for seed 6607 (342/500) ...\n",
            "Generating image for seed 6608 (343/500) ...\n",
            "Generating image for seed 6609 (344/500) ...\n",
            "Generating image for seed 6610 (345/500) ...\n",
            "Generating image for seed 6611 (346/500) ...\n",
            "Generating image for seed 6612 (347/500) ...\n",
            "Generating image for seed 6613 (348/500) ...\n",
            "Generating image for seed 6614 (349/500) ...\n",
            "Generating image for seed 6615 (350/500) ...\n",
            "Generating image for seed 6616 (351/500) ...\n",
            "Generating image for seed 6617 (352/500) ...\n",
            "Generating image for seed 6618 (353/500) ...\n",
            "Generating image for seed 6619 (354/500) ...\n",
            "Generating image for seed 6620 (355/500) ...\n",
            "Generating image for seed 6621 (356/500) ...\n",
            "Generating image for seed 6622 (357/500) ...\n",
            "Generating image for seed 6623 (358/500) ...\n",
            "Generating image for seed 6624 (359/500) ...\n",
            "Generating image for seed 6625 (360/500) ...\n",
            "Generating image for seed 6626 (361/500) ...\n",
            "Generating image for seed 6627 (362/500) ...\n",
            "Generating image for seed 6628 (363/500) ...\n",
            "Generating image for seed 6629 (364/500) ...\n",
            "Generating image for seed 6630 (365/500) ...\n",
            "Generating image for seed 6631 (366/500) ...\n",
            "Generating image for seed 6632 (367/500) ...\n",
            "Generating image for seed 6633 (368/500) ...\n",
            "Generating image for seed 6634 (369/500) ...\n",
            "Generating image for seed 6635 (370/500) ...\n",
            "Generating image for seed 6636 (371/500) ...\n",
            "Generating image for seed 6637 (372/500) ...\n",
            "Generating image for seed 6638 (373/500) ...\n",
            "Generating image for seed 6639 (374/500) ...\n",
            "Generating image for seed 6640 (375/500) ...\n",
            "Generating image for seed 6641 (376/500) ...\n",
            "Generating image for seed 6642 (377/500) ...\n",
            "Generating image for seed 6643 (378/500) ...\n",
            "Generating image for seed 6644 (379/500) ...\n",
            "Generating image for seed 6645 (380/500) ...\n",
            "Generating image for seed 6646 (381/500) ...\n",
            "Generating image for seed 6647 (382/500) ...\n",
            "Generating image for seed 6648 (383/500) ...\n",
            "Generating image for seed 6649 (384/500) ...\n",
            "Generating image for seed 6650 (385/500) ...\n",
            "Generating image for seed 6651 (386/500) ...\n",
            "Generating image for seed 6652 (387/500) ...\n",
            "Generating image for seed 6653 (388/500) ...\n",
            "Generating image for seed 6654 (389/500) ...\n",
            "Generating image for seed 6655 (390/500) ...\n",
            "Generating image for seed 6656 (391/500) ...\n",
            "Generating image for seed 6657 (392/500) ...\n",
            "Generating image for seed 6658 (393/500) ...\n",
            "Generating image for seed 6659 (394/500) ...\n",
            "Generating image for seed 6660 (395/500) ...\n",
            "Generating image for seed 6661 (396/500) ...\n",
            "Generating image for seed 6662 (397/500) ...\n",
            "Generating image for seed 6663 (398/500) ...\n",
            "Generating image for seed 6664 (399/500) ...\n",
            "Generating image for seed 6665 (400/500) ...\n",
            "Generating image for seed 6666 (401/500) ...\n",
            "Generating image for seed 6667 (402/500) ...\n",
            "Generating image for seed 6668 (403/500) ...\n",
            "Generating image for seed 6669 (404/500) ...\n",
            "Generating image for seed 6670 (405/500) ...\n",
            "Generating image for seed 6671 (406/500) ...\n",
            "Generating image for seed 6672 (407/500) ...\n",
            "Generating image for seed 6673 (408/500) ...\n",
            "Generating image for seed 6674 (409/500) ...\n",
            "Generating image for seed 6675 (410/500) ...\n",
            "Generating image for seed 6676 (411/500) ...\n",
            "Generating image for seed 6677 (412/500) ...\n",
            "Generating image for seed 6678 (413/500) ...\n",
            "Generating image for seed 6679 (414/500) ...\n",
            "Generating image for seed 6680 (415/500) ...\n",
            "Generating image for seed 6681 (416/500) ...\n",
            "Generating image for seed 6682 (417/500) ...\n",
            "Generating image for seed 6683 (418/500) ...\n",
            "Generating image for seed 6684 (419/500) ...\n",
            "Generating image for seed 6685 (420/500) ...\n",
            "Generating image for seed 6686 (421/500) ...\n",
            "Generating image for seed 6687 (422/500) ...\n",
            "Generating image for seed 6688 (423/500) ...\n",
            "Generating image for seed 6689 (424/500) ...\n",
            "Generating image for seed 6690 (425/500) ...\n",
            "Generating image for seed 6691 (426/500) ...\n",
            "Generating image for seed 6692 (427/500) ...\n",
            "Generating image for seed 6693 (428/500) ...\n",
            "Generating image for seed 6694 (429/500) ...\n",
            "Generating image for seed 6695 (430/500) ...\n",
            "Generating image for seed 6696 (431/500) ...\n",
            "Generating image for seed 6697 (432/500) ...\n",
            "Generating image for seed 6698 (433/500) ...\n",
            "Generating image for seed 6699 (434/500) ...\n",
            "Generating image for seed 6700 (435/500) ...\n",
            "Generating image for seed 6701 (436/500) ...\n",
            "Generating image for seed 6702 (437/500) ...\n",
            "Generating image for seed 6703 (438/500) ...\n",
            "Generating image for seed 6704 (439/500) ...\n",
            "Generating image for seed 6705 (440/500) ...\n",
            "Generating image for seed 6706 (441/500) ...\n",
            "Generating image for seed 6707 (442/500) ...\n",
            "Generating image for seed 6708 (443/500) ...\n",
            "Generating image for seed 6709 (444/500) ...\n",
            "Generating image for seed 6710 (445/500) ...\n",
            "Generating image for seed 6711 (446/500) ...\n",
            "Generating image for seed 6712 (447/500) ...\n",
            "Generating image for seed 6713 (448/500) ...\n",
            "Generating image for seed 6714 (449/500) ...\n",
            "Generating image for seed 6715 (450/500) ...\n",
            "Generating image for seed 6716 (451/500) ...\n",
            "Generating image for seed 6717 (452/500) ...\n",
            "Generating image for seed 6718 (453/500) ...\n",
            "Generating image for seed 6719 (454/500) ...\n",
            "Generating image for seed 6720 (455/500) ...\n",
            "Generating image for seed 6721 (456/500) ...\n",
            "Generating image for seed 6722 (457/500) ...\n",
            "Generating image for seed 6723 (458/500) ...\n",
            "Generating image for seed 6724 (459/500) ...\n",
            "Generating image for seed 6725 (460/500) ...\n",
            "Generating image for seed 6726 (461/500) ...\n",
            "Generating image for seed 6727 (462/500) ...\n",
            "Generating image for seed 6728 (463/500) ...\n",
            "Generating image for seed 6729 (464/500) ...\n",
            "Generating image for seed 6730 (465/500) ...\n",
            "Generating image for seed 6731 (466/500) ...\n",
            "Generating image for seed 6732 (467/500) ...\n",
            "Generating image for seed 6733 (468/500) ...\n",
            "Generating image for seed 6734 (469/500) ...\n",
            "Generating image for seed 6735 (470/500) ...\n",
            "Generating image for seed 6736 (471/500) ...\n",
            "Generating image for seed 6737 (472/500) ...\n",
            "Generating image for seed 6738 (473/500) ...\n",
            "Generating image for seed 6739 (474/500) ...\n",
            "Generating image for seed 6740 (475/500) ...\n",
            "Generating image for seed 6741 (476/500) ...\n",
            "Generating image for seed 6742 (477/500) ...\n",
            "Generating image for seed 6743 (478/500) ...\n",
            "Generating image for seed 6744 (479/500) ...\n",
            "Generating image for seed 6745 (480/500) ...\n",
            "Generating image for seed 6746 (481/500) ...\n",
            "Generating image for seed 6747 (482/500) ...\n",
            "Generating image for seed 6748 (483/500) ...\n",
            "Generating image for seed 6749 (484/500) ...\n",
            "Generating image for seed 6750 (485/500) ...\n",
            "Generating image for seed 6751 (486/500) ...\n",
            "Generating image for seed 6752 (487/500) ...\n",
            "Generating image for seed 6753 (488/500) ...\n",
            "Generating image for seed 6754 (489/500) ...\n",
            "Generating image for seed 6755 (490/500) ...\n",
            "Generating image for seed 6756 (491/500) ...\n",
            "Generating image for seed 6757 (492/500) ...\n",
            "Generating image for seed 6758 (493/500) ...\n",
            "Generating image for seed 6759 (494/500) ...\n",
            "Generating image for seed 6760 (495/500) ...\n",
            "Generating image for seed 6761 (496/500) ...\n",
            "Generating image for seed 6762 (497/500) ...\n",
            "Generating image for seed 6763 (498/500) ...\n",
            "Generating image for seed 6764 (499/500) ...\n"
          ]
        }
      ],
      "source": [
        "from numpy import random\n",
        "seed_init = random.randint(10000)\n",
        "nbr_images = 500\n",
        "\n",
        "generation_from = '/content/drive/MyDrive/StyleGAN2-ADA/training/brain_tumor_afhqcat_pretrained/00001-tfr-mirror-auto1-kimg1000-bgc-resumecustom/network-snapshot-000160.pkl'\n",
        "\n",
        "!python \"{stylegan2_repo_path / 'generate.py'}\" --outdir=\"{project_path / 'out' / '500_images_afhqcat'}\" --trunc=0.7 --seeds={seed_init}-{seed_init+nbr_images-1}  --network={generation_from}"
      ]
    }
  ],
  "metadata": {
    "accelerator": "GPU",
    "colab": {
      "collapsed_sections": [
        "5YcUMPQp6ipP",
        "Ti11YiPAiQpb"
      ],
      "machine_shape": "hm",
      "provenance": []
    },
    "kernelspec": {
      "display_name": "Python 3",
      "language": "python",
      "name": "python3"
    },
    "language_info": {
      "codemirror_mode": {
        "name": "ipython",
        "version": 3
      },
      "file_extension": ".py",
      "mimetype": "text/x-python",
      "name": "python",
      "nbconvert_exporter": "python",
      "pygments_lexer": "ipython3",
      "version": "3.9.0"
    }
  },
  "nbformat": 4,
  "nbformat_minor": 0
}